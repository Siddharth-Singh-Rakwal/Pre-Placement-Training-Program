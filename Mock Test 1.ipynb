{
 "cells": [
  {
   "cell_type": "markdown",
   "id": "4fda6f48-d1b4-4750-8cb8-a03bca2a999f",
   "metadata": {},
   "source": [
    "# Mock Test 1"
   ]
  },
  {
   "cell_type": "code",
   "execution_count": null,
   "id": "82c02e38-bba2-4124-a78e-d25e23b33f71",
   "metadata": {},
   "outputs": [],
   "source": []
  },
  {
   "cell_type": "markdown",
   "id": "e867ca46-1de5-4a7e-b970-fd6169a0db61",
   "metadata": {},
   "source": [
    "## Q1."
   ]
  },
  {
   "cell_type": "markdown",
   "id": "e4cd173d-b101-406b-b7aa-a4819d5b02c9",
   "metadata": {},
   "source": [
    "Move Zeroes\n",
    "\n",
    "Given an integer array nums, move all 0's to the end of it while maintaining the relative order of the non-zero elements.\n",
    "\n",
    "Note that you must do this in-place without making a copy of the array.\n",
    "\n",
    "Example 1:\n",
    "\n",
    "Input: nums = [0,1,0,3,12]\n",
    "\n",
    "Output: [1,3,12,0,0]\n",
    "\n",
    "Example 2:\n",
    "\n",
    "Input: nums = [0]\n",
    "\n",
    "Output: [0]\n",
    "\n",
    "Constraints:\n",
    "\n",
    "a. 1 <= nums.length <= 10^4\n",
    "\n",
    "b. -2^31 <= nums[i] <= 2^31 - 1\n"
   ]
  },
  {
   "cell_type": "code",
   "execution_count": 1,
   "id": "a2ac22c6-49fe-46f7-9e3e-85b4f4915aa0",
   "metadata": {},
   "outputs": [],
   "source": [
    "def moveZeroes(nums):\n",
    "    nonZeroIndex = 0\n",
    "\n",
    "    # Move all non-zero elements to the front\n",
    "    for num in nums:\n",
    "        if num != 0:\n",
    "            nums[nonZeroIndex] = num\n",
    "            nonZeroIndex += 1\n",
    "\n",
    "    # Set all remaining elements to zero\n",
    "    while nonZeroIndex < len(nums):\n",
    "        nums[nonZeroIndex] = 0\n",
    "        nonZeroIndex += 1\n",
    "\n",
    "    return nums\n"
   ]
  },
  {
   "cell_type": "code",
   "execution_count": 2,
   "id": "812bda9c-d2f5-47b3-b331-a89a85168327",
   "metadata": {},
   "outputs": [
    {
     "name": "stdout",
     "output_type": "stream",
     "text": [
      "[1, 3, 12, 0, 0]\n",
      "[0]\n"
     ]
    }
   ],
   "source": [
    "nums1 = [0, 1, 0, 3, 12]\n",
    "print(moveZeroes(nums1))  # Output: [1, 3, 12, 0, 0]\n",
    "\n",
    "nums2 = [0]\n",
    "print(moveZeroes(nums2))  # Output: [0]\n"
   ]
  },
  {
   "cell_type": "code",
   "execution_count": null,
   "id": "49269fdd-b5c6-440d-ad89-6211e295db31",
   "metadata": {},
   "outputs": [],
   "source": []
  },
  {
   "cell_type": "code",
   "execution_count": null,
   "id": "c4d52f1e-6fb5-4bdc-ae1f-7cf70d5f7413",
   "metadata": {},
   "outputs": [],
   "source": []
  },
  {
   "cell_type": "markdown",
   "id": "967167e9-42dc-450e-b82e-34238acefa25",
   "metadata": {},
   "source": [
    "## Q2."
   ]
  },
  {
   "cell_type": "markdown",
   "id": "f575e67c-3cea-4467-b8c0-8db5a906602f",
   "metadata": {},
   "source": [
    "First Unique Character in a String\n",
    "\n",
    "Given a string s, find the first non-repeating character in it and return its index. If it does not exist, return -1.\n",
    "\n",
    "Example 1:\n",
    "\n",
    "Input: s = \"leetcode\"\n",
    "\n",
    "Output: 0\n",
    "\n",
    "Example 2:\n",
    "\n",
    "Input: s = \"loveleetcode\"\n",
    "\n",
    "Output: 2\n",
    "\n",
    "Example 3:\n",
    "\n",
    "Input: s = \"aabb\"\n",
    "\n",
    "Output: -1\n",
    "\n",
    "Constraints:\n",
    "\n",
    "a. 1 <= s.length <= 10^5\n",
    "\n",
    "b. s consists of only lowercase English letters.\n"
   ]
  },
  {
   "cell_type": "code",
   "execution_count": 3,
   "id": "7b2ddc91-dd4d-4c84-bb71-f1fcd4381fea",
   "metadata": {},
   "outputs": [],
   "source": [
    "def firstUniqChar(s):\n",
    "    char_freq = {}\n",
    "    \n",
    "    # Count the frequencies of each character\n",
    "    for char in s:\n",
    "        char_freq[char] = char_freq.get(char, 0) + 1\n",
    "    \n",
    "    # Find the first character with frequency 1\n",
    "    for i in range(len(s)):\n",
    "        if char_freq[s[i]] == 1:\n",
    "            return i\n",
    "    \n",
    "    return -1\n"
   ]
  },
  {
   "cell_type": "code",
   "execution_count": 4,
   "id": "dcd8f9f0-c9fd-4753-98c4-9aa0a96b4c80",
   "metadata": {},
   "outputs": [
    {
     "name": "stdout",
     "output_type": "stream",
     "text": [
      "0\n",
      "2\n",
      "-1\n"
     ]
    }
   ],
   "source": [
    "s1 = \"leetcode\"\n",
    "print(firstUniqChar(s1))  # Output: 0\n",
    "\n",
    "s2 = \"loveleetcode\"\n",
    "print(firstUniqChar(s2))  # Output: 2\n",
    "\n",
    "s3 = \"aabb\"\n",
    "print(firstUniqChar(s3))  # Output: -1\n"
   ]
  },
  {
   "cell_type": "code",
   "execution_count": null,
   "id": "bc88f1ea-607d-4fd5-af6a-f312351ebcbc",
   "metadata": {},
   "outputs": [],
   "source": []
  }
 ],
 "metadata": {
  "kernelspec": {
   "display_name": "Python 3 (ipykernel)",
   "language": "python",
   "name": "python3"
  },
  "language_info": {
   "codemirror_mode": {
    "name": "ipython",
    "version": 3
   },
   "file_extension": ".py",
   "mimetype": "text/x-python",
   "name": "python",
   "nbconvert_exporter": "python",
   "pygments_lexer": "ipython3",
   "version": "3.10.8"
  }
 },
 "nbformat": 4,
 "nbformat_minor": 5
}
