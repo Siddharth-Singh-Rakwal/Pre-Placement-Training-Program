{
 "cells": [
  {
   "cell_type": "markdown",
   "id": "801b4b65-f476-40bc-a1ec-b8199edefe58",
   "metadata": {},
   "source": [
    "# Assignment - 2"
   ]
  },
  {
   "cell_type": "code",
   "execution_count": null,
   "id": "7b45dc29-31dc-4ff4-90ce-9a25156ad69c",
   "metadata": {},
   "outputs": [],
   "source": []
  },
  {
   "cell_type": "markdown",
   "id": "b9ce6b81-0a3f-4d6f-9dec-c657a65f1fd2",
   "metadata": {},
   "source": [
    "1. Scenario: A company wants to analyze the sales performance of its products in different regions. They have collected the following data:\n",
    "\n",
    "   Region A: [10, 15, 12, 8, 14]\n",
    "   \n",
    "   Region B: [18, 20, 16, 22, 25]\n",
    "   \n",
    "   Calculate the mean sales for each region.\n"
   ]
  },
  {
   "cell_type": "code",
   "execution_count": 1,
   "id": "ea26ce9c-d1ba-4e79-8ee8-f0bc41b2f5ca",
   "metadata": {},
   "outputs": [
    {
     "name": "stdout",
     "output_type": "stream",
     "text": [
      "Mean sales for Region A: 11.8\n",
      "Mean sales for Region B: 20.2\n"
     ]
    }
   ],
   "source": [
    "def calculate_mean_sales(sales_data):\n",
    "    total_sales = sum(sales_data)\n",
    "    num_data_points = len(sales_data)\n",
    "    mean_sales = total_sales / num_data_points\n",
    "    return mean_sales\n",
    "\n",
    "# Sales data for each region\n",
    "region_a_sales = [10, 15, 12, 8, 14]\n",
    "region_b_sales = [18, 20, 16, 22, 25]\n",
    "\n",
    "# Calculate mean sales for each region\n",
    "mean_sales_region_a = calculate_mean_sales(region_a_sales)\n",
    "mean_sales_region_b = calculate_mean_sales(region_b_sales)\n",
    "\n",
    "# Print the mean sales for each region\n",
    "print(\"Mean sales for Region A:\", mean_sales_region_a)\n",
    "print(\"Mean sales for Region B:\", mean_sales_region_b)\n"
   ]
  },
  {
   "cell_type": "code",
   "execution_count": null,
   "id": "c9a0063a-bf2a-4e69-b9bc-99e7148bcac2",
   "metadata": {},
   "outputs": [],
   "source": []
  },
  {
   "cell_type": "markdown",
   "id": "152f7c7d-ce68-42dd-a391-fccd721476f7",
   "metadata": {},
   "source": [
    "2. Scenario: A survey is conducted to measure customer satisfaction on a scale of 1 to 5. The data collected is as follows:\n",
    "\n",
    "   [4, 5, 2, 3, 5, 4, 3, 2, 4, 5]\n",
    "   \n",
    "   Calculate the mode of the survey responses.\n"
   ]
  },
  {
   "cell_type": "code",
   "execution_count": 2,
   "id": "144c1930-b6cf-47b2-b83d-7163562626e9",
   "metadata": {},
   "outputs": [
    {
     "name": "stdout",
     "output_type": "stream",
     "text": [
      "Mode of the survey responses: 4\n"
     ]
    }
   ],
   "source": [
    "import statistics\n",
    "\n",
    "survey_responses = [4, 5, 2, 3, 5, 4, 3, 2, 4, 5]\n",
    "\n",
    "mode = statistics.mode(survey_responses)\n",
    "\n",
    "print(\"Mode of the survey responses:\", mode)\n"
   ]
  },
  {
   "cell_type": "code",
   "execution_count": null,
   "id": "92136242-0d50-445f-805c-676cfb847859",
   "metadata": {},
   "outputs": [],
   "source": []
  },
  {
   "cell_type": "markdown",
   "id": "7a6168a5-148b-454a-ae28-f8a34594e779",
   "metadata": {},
   "source": [
    "3. Scenario: A company wants to compare the salaries of two departments. The salary data for Department A and Department B are as follows:\n",
    "\n",
    "   Department A: [5000, 6000, 5500, 7000]\n",
    "   \n",
    "   Department B: [4500, 5500, 5800, 6000, 5200]\n",
    "   \n",
    "   Calculate the median salary for each department.\n"
   ]
  },
  {
   "cell_type": "code",
   "execution_count": 3,
   "id": "8875a50d-5acf-482b-aa03-edfe12c827be",
   "metadata": {},
   "outputs": [
    {
     "name": "stdout",
     "output_type": "stream",
     "text": [
      "Median salary for Department A: 5750.0\n",
      "Median salary for Department B: 5500\n"
     ]
    }
   ],
   "source": [
    "import statistics\n",
    "\n",
    "department_a_salaries = [5000, 6000, 5500, 7000]\n",
    "department_b_salaries = [4500, 5500, 5800, 6000, 5200]\n",
    "\n",
    "median_a = statistics.median(department_a_salaries)\n",
    "median_b = statistics.median(department_b_salaries)\n",
    "\n",
    "print(\"Median salary for Department A:\", median_a)\n",
    "print(\"Median salary for Department B:\", median_b)\n"
   ]
  },
  {
   "cell_type": "code",
   "execution_count": null,
   "id": "07881acd-d44a-4bd3-976a-f3daa6675470",
   "metadata": {},
   "outputs": [],
   "source": []
  },
  {
   "cell_type": "markdown",
   "id": "cb160b64-f67f-4519-9d30-e9d701459421",
   "metadata": {},
   "source": [
    "4. Scenario: A data analyst wants to determine the variability in the daily stock prices of a company. The data collected is as follows:\n",
    "\n",
    "   [25.5, 24.8, 26.1, 25.3, 24.9]\n",
    "   \n",
    "   Calculate the range of the stock prices.\n"
   ]
  },
  {
   "cell_type": "code",
   "execution_count": 4,
   "id": "0f8d5877-133e-4a73-b247-3c3147f230c0",
   "metadata": {},
   "outputs": [
    {
     "name": "stdout",
     "output_type": "stream",
     "text": [
      "Range of the stock prices: 1.3000000000000007\n"
     ]
    }
   ],
   "source": [
    "stock_prices = [25.5, 24.8, 26.1, 25.3, 24.9]\n",
    "\n",
    "price_range = max(stock_prices) - min(stock_prices)\n",
    "\n",
    "print(\"Range of the stock prices:\", price_range)\n"
   ]
  },
  {
   "cell_type": "code",
   "execution_count": null,
   "id": "79d002d8-9641-450c-b85d-324b1064f847",
   "metadata": {},
   "outputs": [],
   "source": []
  },
  {
   "cell_type": "markdown",
   "id": "67679177-5279-469e-89f3-789a6ce4ed7f",
   "metadata": {},
   "source": [
    "5. Scenario: A study is conducted to compare the performance of two different teaching methods. The test scores of the students in each group are as follows:\n",
    "\n",
    "   Group A: [85, 90, 92, 88, 91]\n",
    "   \n",
    "\n",
    "   Group B: [82, 88, 90, 86, 87]\n",
    "   \n",
    "   Perform a t-test to determine if there is a significant difference in the mean scores between the two groups\n"
   ]
  },
  {
   "cell_type": "code",
   "execution_count": 5,
   "id": "61d00030-37b4-4ec0-bd35-5e78775c5a3a",
   "metadata": {},
   "outputs": [
    {
     "name": "stdout",
     "output_type": "stream",
     "text": [
      "T-Statistic: 1.4312528946642733\n",
      "P-Value: 0.19023970239078333\n"
     ]
    }
   ],
   "source": [
    "from scipy import stats\n",
    "\n",
    "group_a_scores = [85, 90, 92, 88, 91]\n",
    "group_b_scores = [82, 88, 90, 86, 87]\n",
    "\n",
    "# Perform t-test\n",
    "t_statistic, p_value = stats.ttest_ind(group_a_scores, group_b_scores)\n",
    "\n",
    "# Print the results\n",
    "print(\"T-Statistic:\", t_statistic)\n",
    "print(\"P-Value:\", p_value)\n"
   ]
  },
  {
   "cell_type": "code",
   "execution_count": null,
   "id": "1719255b-493d-4877-8b77-235375f2d90c",
   "metadata": {},
   "outputs": [],
   "source": []
  },
  {
   "cell_type": "markdown",
   "id": "a4997238-f205-425f-af78-13c9e2484279",
   "metadata": {},
   "source": [
    "6. Scenario: A company wants to analyze the relationship between advertising expenditure and sales. The data collected is as follows:\n",
    "\n",
    "   Advertising Expenditure (in thousands): [10, 15, 12, 8, 14]\n",
    "   \n",
    "   Sales (in thousands): [25, 30, 28, 20, 26]\n",
    "   \n",
    "   Calculate the correlation coefficient between advertising expenditure and sales.\n"
   ]
  },
  {
   "cell_type": "code",
   "execution_count": 1,
   "id": "e05d31e4-8506-4403-aedf-e41abd6fb7b8",
   "metadata": {},
   "outputs": [
    {
     "name": "stdout",
     "output_type": "stream",
     "text": [
      "Correlation Coefficient: 0.8757511375750132\n"
     ]
    }
   ],
   "source": [
    "import numpy as np\n",
    "\n",
    "# Advertising Expenditure (in thousands)\n",
    "advertising_expenditure = np.array([10, 15, 12, 8, 14])\n",
    "\n",
    "# Sales (in thousands)\n",
    "sales = np.array([25, 30, 28, 20, 26])\n",
    "\n",
    "# Calculate the correlation coefficient\n",
    "correlation_coefficient = np.corrcoef(advertising_expenditure, sales)[0, 1]\n",
    "\n",
    "print(\"Correlation Coefficient:\", correlation_coefficient)\n"
   ]
  },
  {
   "cell_type": "code",
   "execution_count": null,
   "id": "33f87711-0178-49c2-a83e-f9c68e2f5c91",
   "metadata": {},
   "outputs": [],
   "source": []
  },
  {
   "cell_type": "markdown",
   "id": "292d8812-61b9-41c3-bc19-3db1b1dfa30f",
   "metadata": {},
   "source": [
    "7. Scenario: A survey is conducted to measure the heights of a group of people. The data collected is as follows:\n",
    "\n",
    "   [160, 170, 165, 155, 175, 180, 170]\n",
    "   \n",
    "   Calculate the standard deviation of the heights.\n"
   ]
  },
  {
   "cell_type": "code",
   "execution_count": 2,
   "id": "4538804b-abab-4b41-8942-9b8c6389bb95",
   "metadata": {},
   "outputs": [
    {
     "name": "stdout",
     "output_type": "stream",
     "text": [
      "Standard Deviation of Heights: 7.953949089757174\n"
     ]
    }
   ],
   "source": [
    "import numpy as np\n",
    "\n",
    "# Heights (in cm)\n",
    "heights = np.array([160, 170, 165, 155, 175, 180, 170])\n",
    "\n",
    "# Calculate the standard deviation\n",
    "standard_deviation = np.std(heights)\n",
    "\n",
    "print(\"Standard Deviation of Heights:\", standard_deviation)\n"
   ]
  },
  {
   "cell_type": "code",
   "execution_count": null,
   "id": "a47e6068-5ddd-4a33-962a-cee9cf2f30ec",
   "metadata": {},
   "outputs": [],
   "source": []
  },
  {
   "cell_type": "markdown",
   "id": "3120b0c3-de7a-429b-a4ad-a80c3c2713be",
   "metadata": {},
   "source": [
    "8. Scenario: A company wants to analyze the relationship between employee tenure and job satisfaction. The data collected is as follows:\n",
    "\n",
    "   Employee Tenure (in years): [2, 3, 5, 4, 6, 2, 4]\n",
    "   \n",
    "   Job Satisfaction (on a scale of 1 to 10): [7, 8, 6, 9, 5, 7, 6]\n",
    "   \n",
    "   Perform a linear regression analysis to predict job satisfaction based on employee tenure.\n"
   ]
  },
  {
   "cell_type": "code",
   "execution_count": 3,
   "id": "f44923db-fa86-4eed-b170-a6a92f0cf153",
   "metadata": {},
   "outputs": [
    {
     "name": "stdout",
     "output_type": "stream",
     "text": [
      "Predicted Job Satisfaction: 7.191489361702127\n"
     ]
    }
   ],
   "source": [
    "from sklearn.linear_model import LinearRegression\n",
    "import numpy as np\n",
    "\n",
    "# Employee Tenure (in years)\n",
    "employee_tenure = np.array([2, 3, 5, 4, 6, 2, 4]).reshape(-1, 1)\n",
    "\n",
    "# Job Satisfaction (on a scale of 1 to 10)\n",
    "job_satisfaction = np.array([7, 8, 6, 9, 5, 7, 6])\n",
    "\n",
    "# Create a linear regression model\n",
    "model = LinearRegression()\n",
    "\n",
    "# Fit the model using the employee tenure and job satisfaction data\n",
    "model.fit(employee_tenure, job_satisfaction)\n",
    "\n",
    "# Predict job satisfaction for a new employee tenure value\n",
    "new_tenure = np.array([[3]])  # You can change this value to make predictions for different tenure values\n",
    "predicted_satisfaction = model.predict(new_tenure)\n",
    "\n",
    "print(\"Predicted Job Satisfaction:\", predicted_satisfaction[0])\n"
   ]
  },
  {
   "cell_type": "code",
   "execution_count": null,
   "id": "cb71e72a-87a5-42e2-84fc-b57fd93a22c5",
   "metadata": {},
   "outputs": [],
   "source": []
  },
  {
   "cell_type": "markdown",
   "id": "6e3b008d-d590-47bc-a17f-1e0597f76972",
   "metadata": {},
   "source": [
    "9. Scenario: A study is conducted to compare the effectiveness of two different medications. The recovery times of the patients in each group are as follows:\n",
    "\n",
    "   Medication A: [10, 12, 14, 11, 13]\n",
    "   \n",
    "   Medication B: [15, 17, 16, 14, 18]\n",
    "   \n",
    "   Perform an analysis of variance (ANOVA) to determine if there is a significant difference in the mean recovery times between the two medications.\n"
   ]
  },
  {
   "cell_type": "code",
   "execution_count": 4,
   "id": "ee8f3ed9-78b2-4e4c-98b6-19a642ee4c21",
   "metadata": {},
   "outputs": [
    {
     "name": "stdout",
     "output_type": "stream",
     "text": [
      "F-statistic: 16.0\n",
      "p-value: 0.003949772803445326\n"
     ]
    }
   ],
   "source": [
    "from scipy.stats import f_oneway\n",
    "\n",
    "# Recovery times for Medication A\n",
    "medication_a = [10, 12, 14, 11, 13]\n",
    "\n",
    "# Recovery times for Medication B\n",
    "medication_b = [15, 17, 16, 14, 18]\n",
    "\n",
    "# Perform ANOVA\n",
    "f_statistic, p_value = f_oneway(medication_a, medication_b)\n",
    "\n",
    "print(\"F-statistic:\", f_statistic)\n",
    "print(\"p-value:\", p_value)\n"
   ]
  },
  {
   "cell_type": "code",
   "execution_count": null,
   "id": "0f372d9c-13f5-4833-9b3f-563110fbb3d9",
   "metadata": {},
   "outputs": [],
   "source": []
  },
  {
   "cell_type": "markdown",
   "id": "49add958-11dd-4539-8bb9-f07846526e0d",
   "metadata": {},
   "source": [
    "10. Scenario: A company wants to analyze customer feedback ratings on a scale of 1 to 10. The data collected is as follows:\n",
    "\n",
    "    [8, 9, 7, 6, 8, 10, 9, 8, 7, 8]\n",
    "    \n",
    "    Calculate the 75th percentile of the feedback ratings.\n"
   ]
  },
  {
   "cell_type": "code",
   "execution_count": 5,
   "id": "915b807f-fe74-4576-ba00-bbe6596cfd9a",
   "metadata": {},
   "outputs": [
    {
     "name": "stdout",
     "output_type": "stream",
     "text": [
      "75th Percentile of Feedback Ratings: 8.75\n"
     ]
    }
   ],
   "source": [
    "import numpy as np\n",
    "\n",
    "# Feedback ratings\n",
    "ratings = np.array([8, 9, 7, 6, 8, 10, 9, 8, 7, 8])\n",
    "\n",
    "# Calculate the 75th percentile\n",
    "percentile_75 = np.percentile(ratings, 75)\n",
    "\n",
    "print(\"75th Percentile of Feedback Ratings:\", percentile_75)\n"
   ]
  },
  {
   "cell_type": "code",
   "execution_count": null,
   "id": "7b562399-76b8-4158-b061-3d51c5c820a9",
   "metadata": {},
   "outputs": [],
   "source": []
  },
  {
   "cell_type": "markdown",
   "id": "848bd744-9219-42f1-8bc2-bd514b25e942",
   "metadata": {},
   "source": [
    "11. Scenario: A quality control department wants to test the weight consistency of a product. The weights of a sample of products are as follows:\n",
    "\n",
    "    [10.2, 9.8, 10.0, 10.5, 10.3, 10.1]\n",
    "    \n",
    "    Perform a hypothesis test to determine if the mean weight differs significantly from 10 grams.\n"
   ]
  },
  {
   "cell_type": "code",
   "execution_count": 6,
   "id": "911737de-60aa-42ad-9828-eac4a676fc75",
   "metadata": {},
   "outputs": [
    {
     "name": "stdout",
     "output_type": "stream",
     "text": [
      "T-statistic: 1.5126584522688367\n",
      "p-value: 0.19077595151110102\n"
     ]
    }
   ],
   "source": [
    "from scipy.stats import ttest_1samp\n",
    "\n",
    "# Weights of the sample products\n",
    "weights = [10.2, 9.8, 10.0, 10.5, 10.3, 10.1]\n",
    "\n",
    "# Hypothesized mean weight\n",
    "hypothesized_mean = 10\n",
    "\n",
    "# Perform one-sample t-test\n",
    "t_statistic, p_value = ttest_1samp(weights, hypothesized_mean)\n",
    "\n",
    "print(\"T-statistic:\", t_statistic)\n",
    "print(\"p-value:\", p_value)\n"
   ]
  },
  {
   "cell_type": "code",
   "execution_count": null,
   "id": "5484021f-12eb-4c99-b3f2-68605b4d9190",
   "metadata": {},
   "outputs": [],
   "source": []
  },
  {
   "cell_type": "markdown",
   "id": "cd499c93-ed00-49da-8f2e-e9d62f07f2cf",
   "metadata": {},
   "source": [
    "12. Scenario: A company wants to analyze the click-through rates of two different website designs. The number of clicks for each design is as follows:\n",
    "\n",
    "    Design A: [100, 120, 110, 90, 95]\n",
    "    \n",
    "    \n",
    "    Design B: [80, 85, 90, 95, 100]\n",
    "    \n",
    "    Perform a chi-square test to determine if there is a significant difference in the click-through rates between the two designs.\n"
   ]
  },
  {
   "cell_type": "code",
   "execution_count": 7,
   "id": "8aecae09-c4c5-4c67-a382-7ece9cb8070e",
   "metadata": {},
   "outputs": [
    {
     "name": "stdout",
     "output_type": "stream",
     "text": [
      "Chi-square statistic: 6.110658166925435\n",
      "p-value: 0.19103526314060293\n"
     ]
    }
   ],
   "source": [
    "from scipy.stats import chi2_contingency\n",
    "\n",
    "# Click-through rates for Design A\n",
    "design_a = [100, 120, 110, 90, 95]\n",
    "\n",
    "# Click-through rates for Design B\n",
    "design_b = [80, 85, 90, 95, 100]\n",
    "\n",
    "# Perform chi-square test\n",
    "chi2, p_value, _, _ = chi2_contingency([design_a, design_b])\n",
    "\n",
    "print(\"Chi-square statistic:\", chi2)\n",
    "print(\"p-value:\", p_value)\n"
   ]
  },
  {
   "cell_type": "code",
   "execution_count": null,
   "id": "266b87cd-f2b0-4264-ab41-0233a4a244ad",
   "metadata": {},
   "outputs": [],
   "source": []
  },
  {
   "cell_type": "markdown",
   "id": "f2514927-4512-4cd7-a5ce-88d7982c7d91",
   "metadata": {},
   "source": [
    "13. Scenario: A survey is conducted to measure customer satisfaction with a product on a scale of 1 to 10. The data collected is as follows:\n",
    "\n",
    "    [7, 9, 6, 8, 10, 7, 8, 9, 7, 8]\n",
    "    \n",
    "    Calculate the 95% confidence interval for the population mean satisfaction score.\n"
   ]
  },
  {
   "cell_type": "code",
   "execution_count": 8,
   "id": "1de2989c-a6c0-4bcd-8a62-d2724a5c470b",
   "metadata": {},
   "outputs": [
    {
     "name": "stdout",
     "output_type": "stream",
     "text": [
      "95% Confidence Interval: (7.043561120599888, 8.756438879400113)\n"
     ]
    }
   ],
   "source": [
    "import numpy as np\n",
    "from scipy.stats import t\n",
    "\n",
    "# Customer satisfaction scores\n",
    "scores = np.array([7, 9, 6, 8, 10, 7, 8, 9, 7, 8])\n",
    "\n",
    "# Calculate sample mean and standard deviation\n",
    "sample_mean = np.mean(scores)\n",
    "sample_std = np.std(scores, ddof=1)\n",
    "\n",
    "# Calculate the standard error\n",
    "standard_error = sample_std / np.sqrt(len(scores))\n",
    "\n",
    "# Calculate the t-score for a 95% confidence interval\n",
    "t_score = t.ppf(0.975, df=len(scores) - 1)\n",
    "\n",
    "# Calculate the margin of error\n",
    "margin_of_error = t_score * standard_error\n",
    "\n",
    "# Calculate the confidence interval\n",
    "confidence_interval = (sample_mean - margin_of_error, sample_mean + margin_of_error)\n",
    "\n",
    "print(\"95% Confidence Interval:\", confidence_interval)\n"
   ]
  },
  {
   "cell_type": "code",
   "execution_count": null,
   "id": "3fbe3aec-e330-49fe-a8c5-ab46cd0b265f",
   "metadata": {},
   "outputs": [],
   "source": []
  },
  {
   "cell_type": "markdown",
   "id": "af722a50-a3d0-414b-8471-10f940b18cf0",
   "metadata": {},
   "source": [
    "\n",
    "14. Scenario: A company wants to analyze the effect of temperature on product performance. The data collected is as follows:\n",
    "\n",
    "    Temperature (in degrees Celsius): [20, 22, 23, 19, 21]\n",
    "    \n",
    "    Performance (on a scale of 1 to 10): [8, 7, 9, 6, 8]\n",
    "    \n",
    "    Perform a simple linear regression to predict performance based on temperature.\n"
   ]
  },
  {
   "cell_type": "code",
   "execution_count": 9,
   "id": "f5a107cb-55cd-41d0-8f97-f272358d6757",
   "metadata": {},
   "outputs": [
    {
     "name": "stdout",
     "output_type": "stream",
     "text": [
      "Predicted Performance: 9.099999999999998\n"
     ]
    }
   ],
   "source": [
    "from sklearn.linear_model import LinearRegression\n",
    "import numpy as np\n",
    "\n",
    "# Temperature (in degrees Celsius)\n",
    "temperature = np.array([20, 22, 23, 19, 21]).reshape(-1, 1)\n",
    "\n",
    "# Performance (on a scale of 1 to 10)\n",
    "performance = np.array([8, 7, 9, 6, 8])\n",
    "\n",
    "# Create a linear regression model\n",
    "model = LinearRegression()\n",
    "\n",
    "# Fit the model using the temperature and performance data\n",
    "model.fit(temperature, performance)\n",
    "\n",
    "# Predict performance for a new temperature value\n",
    "new_temperature = np.array([[24]])  # You can change this value to make predictions for different temperature values\n",
    "predicted_performance = model.predict(new_temperature)\n",
    "\n",
    "print(\"Predicted Performance:\", predicted_performance[0])\n"
   ]
  },
  {
   "cell_type": "code",
   "execution_count": null,
   "id": "bba55996-e76a-4b44-b4a4-d1e948657ea5",
   "metadata": {},
   "outputs": [],
   "source": []
  },
  {
   "cell_type": "markdown",
   "id": "7bf3bd0f-c708-4e01-b5fb-192c3e230852",
   "metadata": {},
   "source": [
    "15. Scenario: A study is conducted to compare the preferences of two groups of participants. The preferences are measured on a Likert scale from 1 to 5. The data collected is as follows:\n",
    "\n",
    "    Group A: [4, 3, 5, 2, 4]\n",
    "    \n",
    "    Group B: [3, 2, 4, 3, 3]\n",
    "    \n",
    "    Perform a Mann-Whitney U test to determine if there is a significant difference in the median preferences between the two groups.\n"
   ]
  },
  {
   "cell_type": "code",
   "execution_count": 10,
   "id": "6fd5fd85-fb59-4671-bd0e-35946c19b4b8",
   "metadata": {},
   "outputs": [
    {
     "name": "stdout",
     "output_type": "stream",
     "text": [
      "Mann-Whitney U statistic: 17.0\n",
      "p-value: 0.380836480306712\n"
     ]
    }
   ],
   "source": [
    "from scipy.stats import mannwhitneyu\n",
    "\n",
    "# Preferences for Group A\n",
    "group_a = [4, 3, 5, 2, 4]\n",
    "\n",
    "# Preferences for Group B\n",
    "group_b = [3, 2, 4, 3, 3]\n",
    "\n",
    "# Perform Mann-Whitney U test\n",
    "statistic, p_value = mannwhitneyu(group_a, group_b, alternative='two-sided')\n",
    "\n",
    "print(\"Mann-Whitney U statistic:\", statistic)\n",
    "print(\"p-value:\", p_value)\n"
   ]
  },
  {
   "cell_type": "code",
   "execution_count": null,
   "id": "ff0f4486-8205-44d4-ad02-b04a89fd6d8b",
   "metadata": {},
   "outputs": [],
   "source": []
  },
  {
   "cell_type": "markdown",
   "id": "1ab4b392-6843-4990-b8fa-92264fe2a7a1",
   "metadata": {},
   "source": [
    "16. Scenario: A company wants to analyze the distribution of customer ages. The data collected is as follows:\n",
    "\n",
    "    [25, 30, 35, 40, 45, 50, 55, 60, 65, 70]\n",
    "    \n",
    "    Calculate the interquartile range (IQR) of the ages.\n",
    "\n"
   ]
  },
  {
   "cell_type": "code",
   "execution_count": 12,
   "id": "4ed26c6f-a4b4-49d1-bca9-22b33cd34e1a",
   "metadata": {},
   "outputs": [
    {
     "name": "stdout",
     "output_type": "stream",
     "text": [
      "Interquartile Range (IQR): 22.5\n"
     ]
    }
   ],
   "source": [
    "import numpy as np\n",
    "\n",
    "# Customer ages\n",
    "ages = np.array([25, 30, 35, 40, 45, 50, 55, 60, 65, 70])\n",
    "\n",
    "# Calculate the 25th and 75th percentiles (Q1 and Q3)\n",
    "q1 = np.percentile(ages, 25)\n",
    "q3 = np.percentile(ages, 75)\n",
    "\n",
    "# Calculate the interquartile range (IQR)\n",
    "iqr = q3 - q1\n",
    "\n",
    "print(\"Interquartile Range (IQR):\", iqr)\n"
   ]
  },
  {
   "cell_type": "code",
   "execution_count": null,
   "id": "f9902eb7-3551-41d3-b592-772b6d438513",
   "metadata": {},
   "outputs": [],
   "source": []
  },
  {
   "cell_type": "markdown",
   "id": "73028121-41ff-4822-adc0-f8e2ddfdb4b2",
   "metadata": {},
   "source": [
    "17. Scenario: A study is conducted to compare the performance of three different machine learning algorithms. The accuracy scores for each algorithm are as follows:\n",
    "\n",
    "    Algorithm A: [0.85, 0.80, 0.82, 0.87, 0.83]\n",
    "    \n",
    "    \n",
    "    Algorithm B: [0.78, 0.82, 0.84, 0.80, 0.79]\n",
    "    \n",
    "    Algorithm C: [0.90, 0.88, 0.89, 0.86, 0.87]\n",
    "    \n",
    "    Perform a Kruskal-Wallis test to determine if there is a significant difference in the median accuracy scores between the algorithms.\n"
   ]
  },
  {
   "cell_type": "code",
   "execution_count": 13,
   "id": "63887164-3fb0-4923-b9c9-19ff3b0d1404",
   "metadata": {},
   "outputs": [
    {
     "name": "stdout",
     "output_type": "stream",
     "text": [
      "Kruskal-Wallis statistic: 9.696947935368053\n",
      "p-value: 0.007840333026249539\n"
     ]
    }
   ],
   "source": [
    "from scipy.stats import kruskal\n",
    "\n",
    "# Accuracy scores for Algorithm A\n",
    "algorithm_a = [0.85, 0.80, 0.82, 0.87, 0.83]\n",
    "\n",
    "# Accuracy scores for Algorithm B\n",
    "algorithm_b = [0.78, 0.82, 0.84, 0.80, 0.79]\n",
    "\n",
    "# Accuracy scores for Algorithm C\n",
    "algorithm_c = [0.90, 0.88, 0.89, 0.86, 0.87]\n",
    "\n",
    "# Perform Kruskal-Wallis test\n",
    "statistic, p_value = kruskal(algorithm_a, algorithm_b, algorithm_c)\n",
    "\n",
    "print(\"Kruskal-Wallis statistic:\", statistic)\n",
    "print(\"p-value:\", p_value)\n"
   ]
  },
  {
   "cell_type": "code",
   "execution_count": null,
   "id": "cd76cddd-1b38-4665-8b81-b50278e65343",
   "metadata": {},
   "outputs": [],
   "source": []
  },
  {
   "cell_type": "markdown",
   "id": "aa0ff525-8eb4-432c-9b79-29aa056e48e5",
   "metadata": {},
   "source": [
    "18. Scenario: A company wants to analyze the effect of price on sales. The data collected is as follows:\n",
    "\n",
    "    Price (in dollars): [10, 15, 12, 8, 14]\n",
    "    \n",
    "    \n",
    "    Sales: [100, 80, 90, 110, 95]\n",
    "    \n",
    "    Perform a simple linear regression to predict sales based on price.\n"
   ]
  },
  {
   "cell_type": "code",
   "execution_count": 14,
   "id": "3e11982c-32b6-4eef-a5d3-a0fe5da64baa",
   "metadata": {},
   "outputs": [
    {
     "name": "stdout",
     "output_type": "stream",
     "text": [
      "Predicted Sales: 90.79268292682927\n"
     ]
    }
   ],
   "source": [
    "from sklearn.linear_model import LinearRegression\n",
    "import numpy as np\n",
    "\n",
    "# Price (in dollars)\n",
    "price = np.array([10, 15, 12, 8, 14]).reshape(-1, 1)\n",
    "\n",
    "# Sales\n",
    "sales = np.array([100, 80, 90, 110, 95])\n",
    "\n",
    "# Create a linear regression model\n",
    "model = LinearRegression()\n",
    "\n",
    "# Fit the model using the price and sales data\n",
    "model.fit(price, sales)\n",
    "\n",
    "# Predict sales for a new price value\n",
    "new_price = np.array([[13]])  # You can change this value to make predictions for different price values\n",
    "predicted_sales = model.predict(new_price)\n",
    "\n",
    "print(\"Predicted Sales:\", predicted_sales[0])\n"
   ]
  },
  {
   "cell_type": "code",
   "execution_count": null,
   "id": "39e6e23e-927e-43d2-bb72-c4ad24cd9adf",
   "metadata": {},
   "outputs": [],
   "source": []
  },
  {
   "cell_type": "markdown",
   "id": "15d6ced3-055a-41ab-8587-9bae3fe310fe",
   "metadata": {},
   "source": [
    "\n",
    "19. Scenario: A survey is conducted to measure the satisfaction levels of customers with a new product. The data collected is as follows:\n",
    "\n",
    "    [7, 8, 9, 6, 8, 7, 9, 7, 8, 7]\n",
    "    \n",
    "    Calculate the standard error of the mean satisfaction score.\n"
   ]
  },
  {
   "cell_type": "code",
   "execution_count": 15,
   "id": "3a7598e1-d1df-425c-81d8-2a8008598540",
   "metadata": {},
   "outputs": [
    {
     "name": "stdout",
     "output_type": "stream",
     "text": [
      "Standard Error of the Mean: 0.30550504633038933\n"
     ]
    }
   ],
   "source": [
    "import numpy as np\n",
    "\n",
    "# Satisfaction scores\n",
    "scores = np.array([7, 8, 9, 6, 8, 7, 9, 7, 8, 7])\n",
    "\n",
    "# Calculate the standard error of the mean\n",
    "standard_error = np.std(scores, ddof=1) / np.sqrt(len(scores))\n",
    "\n",
    "print(\"Standard Error of the Mean:\", standard_error)\n"
   ]
  },
  {
   "cell_type": "code",
   "execution_count": null,
   "id": "b02a45a2-2788-4063-a48c-95a141740f1f",
   "metadata": {},
   "outputs": [],
   "source": []
  },
  {
   "cell_type": "markdown",
   "id": "9d038d53-d16a-465d-bdd7-a40700a3a94a",
   "metadata": {},
   "source": [
    "20. Scenario: A company wants to analyze the relationship between advertising expenditure and sales. The data collected is as follows:\n",
    "\n",
    "    Advertising Expenditure (in thousands): [10, 15, 12, 8, 14]\n",
    "    \n",
    "    \n",
    "    Sales (in thousands): [25, 30, 28, 20, 26]\n",
    "    \n",
    "    Perform a multiple regression analysis to predict sales based on advertising expenditure.\n"
   ]
  },
  {
   "cell_type": "code",
   "execution_count": 16,
   "id": "bef6edca-44d1-432c-8456-b00d04e74581",
   "metadata": {},
   "outputs": [
    {
     "name": "stdout",
     "output_type": "stream",
     "text": [
      "                            OLS Regression Results                            \n",
      "==============================================================================\n",
      "Dep. Variable:                      y   R-squared:                       0.767\n",
      "Model:                            OLS   Adj. R-squared:                  0.689\n",
      "Method:                 Least Squares   F-statistic:                     9.872\n",
      "Date:                Sun, 09 Jul 2023   Prob (F-statistic):             0.0516\n",
      "Time:                        13:19:46   Log-Likelihood:                -9.5288\n",
      "No. Observations:                   5   AIC:                             23.06\n",
      "Df Residuals:                       3   BIC:                             22.28\n",
      "Df Model:                           1                                         \n",
      "Covariance Type:            nonrobust                                         \n",
      "==============================================================================\n",
      "                 coef    std err          t      P>|t|      [0.025      0.975]\n",
      "------------------------------------------------------------------------------\n",
      "const         12.2012      4.429      2.755      0.070      -1.893      26.296\n",
      "x1             1.1524      0.367      3.142      0.052      -0.015       2.320\n",
      "==============================================================================\n",
      "Omnibus:                          nan   Durbin-Watson:                   1.136\n",
      "Prob(Omnibus):                    nan   Jarque-Bera (JB):                0.546\n",
      "Skew:                          -0.267   Prob(JB):                        0.761\n",
      "Kurtosis:                       1.471   Cond. No.                         57.3\n",
      "==============================================================================\n",
      "\n",
      "Notes:\n",
      "[1] Standard Errors assume that the covariance matrix of the errors is correctly specified.\n",
      "Predicted Sales:\n",
      "[32.94512195 35.25       37.55487805]\n"
     ]
    },
    {
     "name": "stderr",
     "output_type": "stream",
     "text": [
      "/opt/conda/lib/python3.10/site-packages/statsmodels/stats/stattools.py:74: ValueWarning: omni_normtest is not valid with less than 8 observations; 5 samples were given.\n",
      "  warn(\"omni_normtest is not valid with less than 8 observations; %i \"\n"
     ]
    }
   ],
   "source": [
    "import numpy as np\n",
    "import statsmodels.api as sm\n",
    "\n",
    "# Advertising Expenditure (in thousands)\n",
    "advertising_expenditure = np.array([10, 15, 12, 8, 14])\n",
    "\n",
    "# Sales (in thousands)\n",
    "sales = np.array([25, 30, 28, 20, 26])\n",
    "\n",
    "# Add a constant term to the advertising expenditure\n",
    "X = sm.add_constant(advertising_expenditure)\n",
    "\n",
    "# Create a multiple regression model\n",
    "model = sm.OLS(sales, X)\n",
    "\n",
    "# Fit the model\n",
    "results = model.fit()\n",
    "\n",
    "# Print the model summary\n",
    "print(results.summary())\n",
    "\n",
    "# Predict sales for new advertising expenditure values\n",
    "new_expenditure = np.array([18, 20, 22])  # You can change these values to make predictions for different expenditure values\n",
    "new_X = sm.add_constant(new_expenditure)\n",
    "predicted_sales = results.predict(new_X)\n",
    "\n",
    "print(\"Predicted Sales:\")\n",
    "print(predicted_sales)\n"
   ]
  },
  {
   "cell_type": "code",
   "execution_count": null,
   "id": "c620b950-031f-4f67-a4b7-9fc2c37ce76d",
   "metadata": {},
   "outputs": [],
   "source": []
  }
 ],
 "metadata": {
  "kernelspec": {
   "display_name": "Python 3 (ipykernel)",
   "language": "python",
   "name": "python3"
  },
  "language_info": {
   "codemirror_mode": {
    "name": "ipython",
    "version": 3
   },
   "file_extension": ".py",
   "mimetype": "text/x-python",
   "name": "python",
   "nbconvert_exporter": "python",
   "pygments_lexer": "ipython3",
   "version": "3.10.8"
  }
 },
 "nbformat": 4,
 "nbformat_minor": 5
}
