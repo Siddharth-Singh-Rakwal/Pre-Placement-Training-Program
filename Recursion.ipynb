{
 "cells": [
  {
   "cell_type": "markdown",
   "id": "4d50b772-04b6-4e4f-ab2a-0f26977e649a",
   "metadata": {},
   "source": [
    "# Assignment | Recursion"
   ]
  },
  {
   "cell_type": "code",
   "execution_count": null,
   "id": "64faa6ab-a9e0-41d2-911f-a85f85a79c1b",
   "metadata": {},
   "outputs": [],
   "source": []
  },
  {
   "cell_type": "markdown",
   "id": "09d58f1d-09ff-45aa-b9e1-e1651d63082b",
   "metadata": {},
   "source": [
    "<aside>\n",
    "💡 **Question 1**\n",
    "\n",
    "Given two strings s1 and s2, return *the lowest **ASCII** sum of deleted characters to make two strings equal*.\n",
    "\n",
    "**Example 1:**\n",
    "\n",
    "**Input:** s1 = \"sea\", s2 = \"eat\"\n",
    "\n",
    "**Output:** 231\n",
    "\n",
    "**Explanation:** Deleting \"s\" from \"sea\" adds the ASCII value of \"s\" (115) to the sum.\n",
    "\n",
    "Deleting \"t\" from \"eat\" adds 116 to the sum.\n",
    "\n",
    "At the end, both strings are equal, and 115 + 116 = 231 is the minimum sum possible to achieve this.\n",
    "\n",
    "</aside>"
   ]
  },
  {
   "cell_type": "code",
   "execution_count": 1,
   "id": "46f9e1ff-2429-4627-bff4-9df42de742e7",
   "metadata": {},
   "outputs": [],
   "source": [
    "def minimumDeleteSum(s1, s2):\n",
    "    dp = [[0] * (len(s2) + 1) for _ in range(len(s1) + 1)]\n",
    "    \n",
    "    # Initialize the first row and column\n",
    "    for i in range(1, len(s1) + 1):\n",
    "        dp[i][0] = dp[i-1][0] + ord(s1[i-1])\n",
    "    for j in range(1, len(s2) + 1):\n",
    "        dp[0][j] = dp[0][j-1] + ord(s2[j-1])\n",
    "    \n",
    "    # Fill the remaining cells\n",
    "    for i in range(1, len(s1) + 1):\n",
    "        for j in range(1, len(s2) + 1):\n",
    "            if s1[i-1] == s2[j-1]:\n",
    "                dp[i][j] = dp[i-1][j-1]\n",
    "            else:\n",
    "                dp[i][j] = min(dp[i-1][j] + ord(s1[i-1]), dp[i][j-1] + ord(s2[j-1]), dp[i-1][j-1] + ord(s1[i-1]) + ord(s2[j-1]))\n",
    "    \n",
    "    return dp[len(s1)][len(s2)]\n"
   ]
  },
  {
   "cell_type": "code",
   "execution_count": 2,
   "id": "2813dea9-2c94-471c-9c82-1100f431bbb6",
   "metadata": {},
   "outputs": [
    {
     "name": "stdout",
     "output_type": "stream",
     "text": [
      "231\n"
     ]
    }
   ],
   "source": [
    "s1 = \"sea\"\n",
    "s2 = \"eat\"\n",
    "\n",
    "output = minimumDeleteSum(s1, s2)\n",
    "print(output)\n"
   ]
  },
  {
   "cell_type": "code",
   "execution_count": null,
   "id": "dab894db-330d-45ae-96a7-dc9834e18b69",
   "metadata": {},
   "outputs": [],
   "source": []
  },
  {
   "cell_type": "markdown",
   "id": "cf58e1df-28a0-4a95-a102-511502bc5fc2",
   "metadata": {},
   "source": [
    "<aside>\n",
    "💡 **Question 2**\n",
    "\n",
    "Given a string s containing only three types of characters: '(', ')' and '*', return true *if* s *is **valid***.\n",
    "\n",
    "The following rules define a **valid** string:\n",
    "\n",
    "- Any left parenthesis '(' must have a corresponding right parenthesis ')'.\n",
    "- Any right parenthesis ')' must have a corresponding left parenthesis '('.\n",
    "- Left parenthesis '(' must go before the corresponding right parenthesis ')'.\n",
    "- '*' could be treated as a single right parenthesis ')' or a single left parenthesis '(' or an empty string \"\".\n",
    "\n",
    "**Example 1:**\n",
    "\n",
    "**Input:** s = \"()\"\n",
    "\n",
    "**Output:**\n",
    "\n",
    "true\n",
    "\n",
    "</aside>"
   ]
  },
  {
   "cell_type": "code",
   "execution_count": 3,
   "id": "716ffcf1-8f6a-4f19-8f0f-8cb5ac4e9fa2",
   "metadata": {},
   "outputs": [
    {
     "name": "stdout",
     "output_type": "stream",
     "text": [
      "True\n"
     ]
    }
   ],
   "source": [
    "def isValid(s):\n",
    "    # Count of unpaired left parenthesis\n",
    "    left_count = 0\n",
    "    \n",
    "    # Count of unpaired asterisks\n",
    "    asterisk_count = 0\n",
    "    \n",
    "    # Iterate over each character in the string\n",
    "    for char in s:\n",
    "        if char == '(':\n",
    "            left_count += 1\n",
    "        elif char == '*':\n",
    "            asterisk_count += 1\n",
    "        else:  # char == ')'\n",
    "            if left_count > 0:\n",
    "                left_count -= 1\n",
    "            elif asterisk_count > 0:\n",
    "                asterisk_count -= 1\n",
    "            else:\n",
    "                return False\n",
    "    \n",
    "    # Check if there are any remaining unpaired left parenthesis\n",
    "    while left_count > 0 and asterisk_count > 0:\n",
    "        left_count -= 1\n",
    "        asterisk_count -= 1\n",
    "    \n",
    "    # If there are no unpaired left parenthesis remaining, the string is valid\n",
    "    return left_count == 0\n",
    "\n",
    "\n",
    "# Example usage\n",
    "s = \"()\"\n",
    "output = isValid(s)\n",
    "print(output)\n"
   ]
  },
  {
   "cell_type": "code",
   "execution_count": null,
   "id": "453f9665-f058-4901-a7eb-2ccbbfc9dc07",
   "metadata": {},
   "outputs": [],
   "source": []
  },
  {
   "cell_type": "markdown",
   "id": "796a1bd5-9718-4f67-9095-aa1e45cde69c",
   "metadata": {},
   "source": [
    "<aside>\n",
    "💡 **Question 3**\n",
    "\n",
    "Given two strings word1 and word2, return *the minimum number of **steps** required to make* word1 *and* word2 *the same*.\n",
    "\n",
    "In one **step**, you can delete exactly one character in either string.\n",
    "\n",
    "**Example 1:**\n",
    "\n",
    "**Input:** word1 = \"sea\", word2 = \"eat\"\n",
    "\n",
    "**Output:** 2\n",
    "\n",
    "**Explanation:** You need one step to make \"sea\" to \"ea\" and another step to make \"eat\" to \"ea\".\n",
    "\n",
    "</aside>"
   ]
  },
  {
   "cell_type": "code",
   "execution_count": 4,
   "id": "fe5bb449-acc1-4922-8c9f-3487457eebc4",
   "metadata": {},
   "outputs": [],
   "source": [
    "def minSteps(word1, word2):\n",
    "    m, n = len(word1), len(word2)\n",
    "    dp = [[0] * (n + 1) for _ in range(m + 1)]\n",
    "\n",
    "    # Initialize the first row and column\n",
    "    for i in range(m + 1):\n",
    "        dp[i][0] = i\n",
    "    for j in range(n + 1):\n",
    "        dp[0][j] = j\n",
    "\n",
    "    # Fill the remaining cells\n",
    "    for i in range(1, m + 1):\n",
    "        for j in range(1, n + 1):\n",
    "            if word1[i - 1] == word2[j - 1]:\n",
    "                dp[i][j] = dp[i - 1][j - 1]\n",
    "            else:\n",
    "                dp[i][j] = min(dp[i - 1][j], dp[i][j - 1]) + 1\n",
    "\n",
    "    return dp[m][n]\n"
   ]
  },
  {
   "cell_type": "code",
   "execution_count": 5,
   "id": "eab81baa-b602-4399-8c4c-8363cc2a7b1b",
   "metadata": {},
   "outputs": [
    {
     "name": "stdout",
     "output_type": "stream",
     "text": [
      "2\n"
     ]
    }
   ],
   "source": [
    "word1 = \"sea\"\n",
    "word2 = \"eat\"\n",
    "\n",
    "output = minSteps(word1, word2)\n",
    "print(output)\n"
   ]
  },
  {
   "cell_type": "code",
   "execution_count": null,
   "id": "974be996-5cdf-405c-8f65-3bd57d477784",
   "metadata": {},
   "outputs": [],
   "source": []
  },
  {
   "cell_type": "markdown",
   "id": "97a50f7a-3f14-4c3d-ad57-406ad37ad7e1",
   "metadata": {},
   "source": [
    "<aside>\n",
    "💡 **Question 4**\n",
    "\n",
    "You need to construct a binary tree from a string consisting of parenthesis and integers.\n",
    "\n",
    "The whole input represents a binary tree. It contains an integer followed by zero, one or two pairs of parenthesis. The integer represents the root's value and a pair of parenthesis contains a child binary tree with the same structure.\n",
    "You always start to construct the **left** child node of the parent first if it exists.\n",
    "\n",
    "**Input:** s = \"4(2(3)(1))(6(5))\"\n",
    "\n",
    "**Output:** [4,2,6,3,1,5]\n",
    "\n",
    "</aside>"
   ]
  },
  {
   "cell_type": "code",
   "execution_count": 7,
   "id": "5f438519-9621-4add-afb7-962125f7b429",
   "metadata": {},
   "outputs": [],
   "source": [
    "class TreeNode:\n",
    "    def __init__(self, val=0, left=None, right=None):\n",
    "        self.val = val\n",
    "        self.left = left\n",
    "        self.right = right\n",
    "\n",
    "\n",
    "def buildTree(s):\n",
    "    if not s:\n",
    "        return None\n",
    "\n",
    "    # Find the index of the first opening parenthesis\n",
    "    index = s.find('(')\n",
    "\n",
    "    if index == -1:\n",
    "        # No child nodes, create a single node with the root value\n",
    "        return TreeNode(int(s))\n",
    "\n",
    "    # Create the root node with the value before the opening parenthesis\n",
    "    root_val = int(s[:index])\n",
    "    root = TreeNode(root_val)\n",
    "\n",
    "    # Find the corresponding closing parenthesis for the opening parenthesis\n",
    "    count = 1\n",
    "    i = index + 1\n",
    "    while count > 0:\n",
    "        if s[i] == '(':\n",
    "            count += 1\n",
    "        elif s[i] == ')':\n",
    "            count -= 1\n",
    "        i += 1\n",
    "\n",
    "    # Extract the substring between the parentheses (left subtree)\n",
    "    root.left = buildTree(s[index+1:i-1])\n",
    "\n",
    "    # Recursively build the right subtree (if it exists)\n",
    "    if i < len(s):\n",
    "        root.right = buildTree(s[i+1:-1])\n",
    "\n",
    "    return root\n"
   ]
  },
  {
   "cell_type": "code",
   "execution_count": 8,
   "id": "bc1799ea-dcfe-447d-a484-d02a36224fa9",
   "metadata": {},
   "outputs": [
    {
     "name": "stdout",
     "output_type": "stream",
     "text": [
      "[4, 2, 3, 1, 6, 5]\n"
     ]
    }
   ],
   "source": [
    "s = \"4(2(3)(1))(6(5))\"\n",
    "root = buildTree(s)\n",
    "\n",
    "# Function to convert the binary tree to a list\n",
    "def treeToList(root):\n",
    "    if root is None:\n",
    "        return []\n",
    "    return [root.val] + treeToList(root.left) + treeToList(root.right)\n",
    "\n",
    "output = treeToList(root)\n",
    "print(output)\n"
   ]
  },
  {
   "cell_type": "code",
   "execution_count": null,
   "id": "8f0d7a33-58f2-4d5c-8de0-8611206268bc",
   "metadata": {},
   "outputs": [],
   "source": []
  },
  {
   "cell_type": "markdown",
   "id": "847608e9-d6b7-4b98-8473-24cc09c19b7c",
   "metadata": {},
   "source": [
    "<aside>\n",
    "💡 **Question 5**\n",
    "\n",
    "Given an array of characters chars, compress it using the following algorithm:\n",
    "\n",
    "Begin with an empty string s. For each group of **consecutive repeating characters** in chars:\n",
    "\n",
    "- If the group's length is 1, append the character to s.\n",
    "- Otherwise, append the character followed by the group's length.\n",
    "\n",
    "The compressed string s **should not be returned separately**, but instead, be stored **in the input character array chars**. Note that group lengths that are 10 or longer will be split into multiple characters in chars.\n",
    "\n",
    "After you are done **modifying the input array,** return *the new length of the array*.\n",
    "\n",
    "You must write an algorithm that uses only constant extra space.\n",
    "\n",
    "**Example 1:**\n",
    "\n",
    "**Input:** chars = [\"a\",\"a\",\"b\",\"b\",\"c\",\"c\",\"c\"]\n",
    "\n",
    "**Output:** Return 6, and the first 6 characters of the input array should be: [\"a\",\"2\",\"b\",\"2\",\"c\",\"3\"]\n",
    "\n",
    "**Explanation:**\n",
    "\n",
    "The groups are \"aa\", \"bb\", and \"ccc\". This compresses to \"a2b2c3\".\n",
    "\n",
    "</aside>"
   ]
  },
  {
   "cell_type": "code",
   "execution_count": 9,
   "id": "61c7fa4b-eec3-4a02-acda-b4d8f7e3ca41",
   "metadata": {},
   "outputs": [],
   "source": [
    "def compress(chars):\n",
    "    # Initialize pointers and count\n",
    "    write_idx = 0\n",
    "    read_idx = 0\n",
    "    count = 0\n",
    "\n",
    "    # Iterate over the characters\n",
    "    while read_idx < len(chars):\n",
    "        # Increment count for consecutive repeating characters\n",
    "        count += 1\n",
    "\n",
    "        # Check if the next character is different or we reached the end of the array\n",
    "        if read_idx + 1 == len(chars) or chars[read_idx] != chars[read_idx + 1]:\n",
    "            # Write the character\n",
    "            chars[write_idx] = chars[read_idx]\n",
    "            write_idx += 1\n",
    "\n",
    "            # Write the count if it is greater than 1\n",
    "            if count > 1:\n",
    "                count_str = str(count)\n",
    "                for c in count_str:\n",
    "                    chars[write_idx] = c\n",
    "                    write_idx += 1\n",
    "\n",
    "            # Reset the count\n",
    "            count = 0\n",
    "\n",
    "        # Move to the next character\n",
    "        read_idx += 1\n",
    "\n",
    "    # Return the new length of the array\n",
    "    return write_idx\n"
   ]
  },
  {
   "cell_type": "code",
   "execution_count": 10,
   "id": "f8db5968-1ad4-4a1c-bef3-58a9d085c71e",
   "metadata": {},
   "outputs": [
    {
     "name": "stdout",
     "output_type": "stream",
     "text": [
      "['a', '2', 'b', '2', 'c', '3']\n"
     ]
    }
   ],
   "source": [
    "chars = [\"a\",\"a\",\"b\",\"b\",\"c\",\"c\",\"c\"]\n",
    "new_length = compress(chars)\n",
    "\n",
    "# Print the compressed array\n",
    "print(chars[:new_length])\n"
   ]
  },
  {
   "cell_type": "code",
   "execution_count": null,
   "id": "b0fdf715-a0b4-4df3-be96-e2254363ec66",
   "metadata": {},
   "outputs": [],
   "source": []
  },
  {
   "cell_type": "markdown",
   "id": "bbd22c32-cec8-443d-9df3-4a2deeb8e44b",
   "metadata": {},
   "source": [
    "<aside>\n",
    "💡 **Question 6**\n",
    "\n",
    "Given two strings s and p, return *an array of all the start indices of* p*'s anagrams in* s. You may return the answer in **any order**.\n",
    "\n",
    "An **Anagram** is a word or phrase formed by rearranging the letters of a different word or phrase, typically using all the original letters exactly once.\n",
    "\n",
    "**Example 1:**\n",
    "\n",
    "**Input:** s = \"cbaebabacd\", p = \"abc\"\n",
    "\n",
    "**Output:** [0,6]\n",
    "\n",
    "**Explanation:**\n",
    "\n",
    "The substring with start index = 0 is \"cba\", which is an anagram of \"abc\".\n",
    "\n",
    "The substring with start index = 6 is \"bac\", which is an anagram of \"abc\".\n",
    "\n",
    "</aside>"
   ]
  },
  {
   "cell_type": "code",
   "execution_count": 11,
   "id": "f4f3b9fc-0d7c-406b-ab2b-fb45f547fff8",
   "metadata": {},
   "outputs": [],
   "source": [
    "from collections import Counter\n",
    "\n",
    "def findAnagrams(s, p):\n",
    "    result = []\n",
    "    freq_p = Counter(p)\n",
    "    freq_window = Counter()\n",
    "\n",
    "    left = right = 0\n",
    "    window_size = len(p)\n",
    "\n",
    "    while right < len(s):\n",
    "        freq_window[s[right]] += 1\n",
    "\n",
    "        if right - left + 1 == window_size:\n",
    "            if freq_window == freq_p:\n",
    "                result.append(left)\n",
    "            freq_window[s[left]] -= 1\n",
    "            if freq_window[s[left]] == 0:\n",
    "                del freq_window[s[left]]\n",
    "            left += 1\n",
    "\n",
    "        right += 1\n",
    "\n",
    "    return result\n"
   ]
  },
  {
   "cell_type": "code",
   "execution_count": 12,
   "id": "f2b840f2-e064-44d3-9e14-4c19cc83c987",
   "metadata": {},
   "outputs": [
    {
     "name": "stdout",
     "output_type": "stream",
     "text": [
      "[0, 6]\n"
     ]
    }
   ],
   "source": [
    "s = \"cbaebabacd\"\n",
    "p = \"abc\"\n",
    "\n",
    "output = findAnagrams(s, p)\n",
    "print(output)\n"
   ]
  },
  {
   "cell_type": "code",
   "execution_count": null,
   "id": "2eb1f387-d15d-4251-96d3-203996482a5c",
   "metadata": {},
   "outputs": [],
   "source": []
  },
  {
   "cell_type": "markdown",
   "id": "2fb024f3-9cf8-4ed6-b6ec-2d4001d2d4c8",
   "metadata": {},
   "source": [
    "<aside>\n",
    "💡 **Question 7**\n",
    "\n",
    "Given an encoded string, return its decoded string.\n",
    "\n",
    "The encoding rule is: k[encoded_string], where the encoded_string inside the square brackets is being repeated exactly k times. Note that k is guaranteed to be a positive integer.\n",
    "\n",
    "You may assume that the input string is always valid; there are no extra white spaces, square brackets are well-formed, etc. Furthermore, you may assume that the original data does not contain any digits and that digits are only for those repeat numbers, k. For example, there will not be input like 3a or 2[4].\n",
    "\n",
    "The test cases are generated so that the length of the output will never exceed 105.\n",
    "\n",
    "**Example 1:**\n",
    "\n",
    "**Input:** s = \"3[a]2[bc]\"\n",
    "\n",
    "**Output:** \"aaabcbc\"\n",
    "\n",
    "</aside>"
   ]
  },
  {
   "cell_type": "code",
   "execution_count": 13,
   "id": "f7b23773-afc6-410b-9ba0-e9ef88a3b2fa",
   "metadata": {},
   "outputs": [],
   "source": [
    "def decodeString(s):\n",
    "    stack = []\n",
    "    count = 0\n",
    "    temp = ''\n",
    "\n",
    "    for c in s:\n",
    "        if c.isdigit():\n",
    "            count = count * 10 + int(c)\n",
    "        elif c == '[':\n",
    "            stack.append((count, temp))\n",
    "            count = 0\n",
    "            temp = ''\n",
    "        elif c == ']':\n",
    "            prev_count, prev_temp = stack.pop()\n",
    "            temp = prev_temp + temp * prev_count\n",
    "        else:\n",
    "            temp += c\n",
    "\n",
    "    return temp\n"
   ]
  },
  {
   "cell_type": "code",
   "execution_count": 14,
   "id": "7d8e3add-661a-4a31-8282-b37acac4cc51",
   "metadata": {},
   "outputs": [
    {
     "name": "stdout",
     "output_type": "stream",
     "text": [
      "aaabcbc\n"
     ]
    }
   ],
   "source": [
    "s = \"3[a]2[bc]\"\n",
    "\n",
    "output = decodeString(s)\n",
    "print(output)\n"
   ]
  },
  {
   "cell_type": "code",
   "execution_count": null,
   "id": "1e99a168-4976-4a3c-a581-69ac63a84215",
   "metadata": {},
   "outputs": [],
   "source": []
  },
  {
   "cell_type": "markdown",
   "id": "ef6c2a34-4c77-42c8-89c2-5e37f8d68f0b",
   "metadata": {},
   "source": [
    "<aside>\n",
    "💡 **Question 8**\n",
    "\n",
    "Given two strings s and goal, return true *if you can swap two letters in* s *so the result is equal to* goal*, otherwise, return* false*.*\n",
    "\n",
    "Swapping letters is defined as taking two indices i and j (0-indexed) such that i != j and swapping the characters at s[i] and s[j].\n",
    "\n",
    "- For example, swapping at indices 0 and 2 in \"abcd\" results in \"cbad\".\n",
    "\n",
    "**Example 1:**\n",
    "\n",
    "**Input:** s = \"ab\", goal = \"ba\"\n",
    "\n",
    "**Output:** true\n",
    "\n",
    "**Explanation:** You can swap s[0] = 'a' and s[1] = 'b' to get \"ba\", which is equal to goal.\n",
    "\n",
    "</aside>"
   ]
  },
  {
   "cell_type": "code",
   "execution_count": 15,
   "id": "addb2b68-7b84-4e60-9e9d-13dc7d1b9d31",
   "metadata": {},
   "outputs": [],
   "source": [
    "def buddyStrings(s, goal):\n",
    "    if len(s) != len(goal):\n",
    "        return False\n",
    "\n",
    "    mismatch_count = 0\n",
    "    mismatch_indices = []\n",
    "    mismatch_chars = []\n",
    "\n",
    "    for i in range(len(s)):\n",
    "        if s[i] != goal[i]:\n",
    "            mismatch_count += 1\n",
    "            mismatch_indices.append(i)\n",
    "            mismatch_chars.append(s[i])\n",
    "\n",
    "    if mismatch_count != 2:\n",
    "        return False\n",
    "\n",
    "    return mismatch_chars[0] == goal[mismatch_indices[1]] and mismatch_chars[1] == goal[mismatch_indices[0]]\n"
   ]
  },
  {
   "cell_type": "code",
   "execution_count": 16,
   "id": "6722436e-f7a0-427d-8225-ff1e056d58d2",
   "metadata": {},
   "outputs": [
    {
     "name": "stdout",
     "output_type": "stream",
     "text": [
      "True\n"
     ]
    }
   ],
   "source": [
    "s = \"ab\"\n",
    "goal = \"ba\"\n",
    "\n",
    "output = buddyStrings(s, goal)\n",
    "print(output)\n"
   ]
  },
  {
   "cell_type": "code",
   "execution_count": null,
   "id": "e06a219c-4849-423f-9026-0db5383d9798",
   "metadata": {},
   "outputs": [],
   "source": []
  }
 ],
 "metadata": {
  "kernelspec": {
   "display_name": "Python 3 (ipykernel)",
   "language": "python",
   "name": "python3"
  },
  "language_info": {
   "codemirror_mode": {
    "name": "ipython",
    "version": 3
   },
   "file_extension": ".py",
   "mimetype": "text/x-python",
   "name": "python",
   "nbconvert_exporter": "python",
   "pygments_lexer": "ipython3",
   "version": "3.10.8"
  }
 },
 "nbformat": 4,
 "nbformat_minor": 5
}
