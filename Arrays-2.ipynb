{
 "cells": [
  {
   "cell_type": "markdown",
   "id": "d39a7934-68a2-4284-9fcf-c34f1b1c6bc9",
   "metadata": {},
   "source": [
    "# Assignment | Arrays-2"
   ]
  },
  {
   "cell_type": "code",
   "execution_count": null,
   "id": "150d1a20-c5e0-4514-b53a-de005ea7e0db",
   "metadata": {},
   "outputs": [],
   "source": []
  },
  {
   "cell_type": "markdown",
   "id": "a298495c-3638-4205-ab12-27b5311bf26f",
   "metadata": {},
   "source": [
    "<aside>\n",
    "💡 Question 1\n",
    "Given an integer array nums of 2n integers, group these integers into n pairs (a1, b1), (a2, b2),..., (an, bn) such that the sum of min(ai, bi) for all i is maximized. Return the maximized sum.\n",
    "\n",
    "**Example 1:**\n",
    "Input: nums = [1,4,3,2]\n",
    "Output: 4\n",
    "\n",
    "**Explanation:** All possible pairings (ignoring the ordering of elements) are:\n",
    "\n",
    "1. (1, 4), (2, 3) -> min(1, 4) + min(2, 3) = 1 + 2 = 3\n",
    "2. (1, 3), (2, 4) -> min(1, 3) + min(2, 4) = 1 + 2 = 3\n",
    "3. (1, 2), (3, 4) -> min(1, 2) + min(3, 4) = 1 + 3 = 4\n",
    "So the maximum possible sum is 4\n",
    "</aside>"
   ]
  },
  {
   "cell_type": "code",
   "execution_count": 1,
   "id": "79802671-28f5-4f0f-92dd-5dc79bf48348",
   "metadata": {},
   "outputs": [
    {
     "name": "stdout",
     "output_type": "stream",
     "text": [
      "4\n"
     ]
    }
   ],
   "source": [
    "def arrayPairSum(nums):\n",
    "    nums.sort()  # Step 1: Sort the array in ascending order\n",
    "    max_sum = 0  # Step 2: Initialize max_sum to 0\n",
    "    \n",
    "    for i in range(0, len(nums), 2):  # Step 3: Iterate over the sorted array with a step size of 2\n",
    "        max_sum += min(nums[i], nums[i+1])  # Add the smaller value to max_sum\n",
    "    \n",
    "    return max_sum  # Step 4: Return the maximum possible sum\n",
    "\n",
    "# Example usage:\n",
    "nums = [1, 4, 3, 2]\n",
    "print(arrayPairSum(nums))  # Output: 4\n"
   ]
  },
  {
   "cell_type": "code",
   "execution_count": null,
   "id": "caad5a37-89ff-44c6-a11f-76b241649880",
   "metadata": {},
   "outputs": [],
   "source": []
  },
  {
   "cell_type": "markdown",
   "id": "d1047154-f058-4a03-a837-286ba156fd77",
   "metadata": {},
   "source": [
    "Question 2\n",
    "Alice has n candies, where the ith candy is of type candyType[i]. Alice noticed that she started to gain weight, so she visited a doctor. \n",
    "\n",
    "The doctor advised Alice to only eat n / 2 of the candies she has (n is always even). Alice likes her candies very much, and she wants to eat the maximum number of different types of candies while still following the doctor's advice. \n",
    "\n",
    "Given the integer array candyType of length n, return the maximum number of different types of candies she can eat if she only eats n / 2 of them.\n",
    "\n",
    "Example 1:\n",
    "Input: candyType = [1,1,2,2,3,3]\n",
    "Output: 3\n",
    "\n",
    "Explanation: Alice can only eat 6 / 2 = 3 candies. Since there are only 3 types, she can eat one of each type."
   ]
  },
  {
   "cell_type": "code",
   "execution_count": 2,
   "id": "dcb9e0a4-4af2-45c4-9982-7f4f266d5706",
   "metadata": {},
   "outputs": [
    {
     "name": "stdout",
     "output_type": "stream",
     "text": [
      "3\n"
     ]
    }
   ],
   "source": [
    "def maxCandies(candyType):\n",
    "    unique_candies = set()  # Step 1: Initialize a set to store unique candy types\n",
    "    \n",
    "    for candy in candyType:  # Step 2: Iterate over the candyType array\n",
    "        unique_candies.add(candy)  # Add each candy type to the set\n",
    "    \n",
    "    limit = len(candyType) // 2  # Step 3: Calculate the limit of n/2\n",
    "    \n",
    "    return min(len(unique_candies), limit)  # Step 4: Return the minimum between the size of unique_candies and the limit\n",
    "\n",
    "# Example usage:\n",
    "candyType = [1, 1, 2, 2, 3, 3]\n",
    "print(maxCandies(candyType))  # Output: 3\n"
   ]
  },
  {
   "cell_type": "code",
   "execution_count": null,
   "id": "716397b0-87dd-43e5-abd7-fef090081167",
   "metadata": {},
   "outputs": [],
   "source": []
  },
  {
   "cell_type": "markdown",
   "id": "66b9f362-5600-4499-9c03-f380d7ca52d4",
   "metadata": {},
   "source": [
    "Question 3\n",
    "We define a harmonious array as an array where the difference between its maximum value\n",
    "and its minimum value is exactly 1.\n",
    "\n",
    "Given an integer array nums, return the length of its longest harmonious subsequence\n",
    "among all its possible subsequences.\n",
    "\n",
    "A subsequence of an array is a sequence that can be derived from the array by deleting some or no elements without changing the order of the remaining elements.\n",
    "\n",
    "Example 1:\n",
    "Input: nums = [1,3,2,2,5,2,3,7]\n",
    "Output: 5\n",
    "\n",
    "Explanation: The longest harmonious subsequence is [3,2,2,2,3]."
   ]
  },
  {
   "cell_type": "code",
   "execution_count": 3,
   "id": "8f5b915a-3bee-45d7-823d-c770f984ecce",
   "metadata": {},
   "outputs": [
    {
     "name": "stdout",
     "output_type": "stream",
     "text": [
      "5\n"
     ]
    }
   ],
   "source": [
    "from collections import defaultdict\n",
    "\n",
    "def findLHS(nums):\n",
    "    num_counts = defaultdict(int)  # Step 1: Initialize a dictionary to store the count of each number\n",
    "    \n",
    "    for num in nums:  # Step 2: Iterate over the nums array\n",
    "        num_counts[num] += 1  # Increment the count of each number\n",
    "    \n",
    "    max_length = 0  # Step 3: Initialize max_length to 0\n",
    "    \n",
    "    for num in num_counts:  # Step 4: Iterate over the num_counts dictionary\n",
    "        if num + 1 in num_counts:  # Check if num + 1 exists in num_counts\n",
    "            length = num_counts[num] + num_counts[num + 1]  # Calculate the length of the harmonious subsequence\n",
    "            max_length = max(max_length, length)  # Update max_length if necessary\n",
    "    \n",
    "    return max_length  # Step 5: Return the length of the longest harmonious subsequence\n",
    "\n",
    "# Example usage:\n",
    "nums = [1, 3, 2, 2, 5, 2, 3, 7]\n",
    "print(findLHS(nums))  # Output: 5\n"
   ]
  },
  {
   "cell_type": "code",
   "execution_count": null,
   "id": "826a3721-611a-40a4-9ed9-e80097fd7c16",
   "metadata": {},
   "outputs": [],
   "source": []
  },
  {
   "cell_type": "markdown",
   "id": "5a94a1b8-8fe8-4fdf-97d7-cc2ef2cd6ea6",
   "metadata": {},
   "source": [
    "Question 4\n",
    "You have a long flowerbed in which some of the plots are planted, and some are not.\n",
    "However, flowers cannot be planted in adjacent plots.\n",
    "Given an integer array flowerbed containing 0's and 1's, where 0 means empty and 1 means not empty, and an integer n, return true if n new flowers can be planted in the flowerbed without violating the no-adjacent-flowers rule and false otherwise.\n",
    "\n",
    "Example 1:\n",
    "Input: flowerbed = [1,0,0,0,1], n = 1\n",
    "Output: true"
   ]
  },
  {
   "cell_type": "code",
   "execution_count": 4,
   "id": "dcc4d357-e1bf-40f4-9cd7-d19df8e11a8b",
   "metadata": {},
   "outputs": [
    {
     "name": "stdout",
     "output_type": "stream",
     "text": [
      "True\n"
     ]
    }
   ],
   "source": [
    "def canPlaceFlowers(flowerbed, n):\n",
    "    count = 0  # Step 1: Initialize count to 0\n",
    "    \n",
    "    for i in range(len(flowerbed)):  # Step 2: Iterate over the flowerbed array\n",
    "        if (\n",
    "            flowerbed[i] == 0 and\n",
    "            (i == 0 or flowerbed[i-1] != 1) and\n",
    "            (i == len(flowerbed)-1 or flowerbed[i+1] != 1)\n",
    "        ):\n",
    "            count += 1  # Increment count if conditions are met\n",
    "            flowerbed[i] = 1  # Mark the current plot as planted\n",
    "    \n",
    "    return count >= n  # Step 3: Return true if count is greater than or equal to n; otherwise, return false\n",
    "\n",
    "# Example usage:\n",
    "flowerbed = [1, 0, 0, 0, 1]\n",
    "n = 1\n",
    "print(canPlaceFlowers(flowerbed, n))  # Output: True\n"
   ]
  },
  {
   "cell_type": "code",
   "execution_count": null,
   "id": "6a3ee243-474c-47de-95fe-b0c9efc9e418",
   "metadata": {},
   "outputs": [],
   "source": []
  },
  {
   "cell_type": "markdown",
   "id": "df552cfa-f07e-4336-99ae-e63e99e84e1c",
   "metadata": {},
   "source": [
    "Question 5\n",
    "Given an integer array nums, find three numbers whose product is maximum and return the maximum product.\n",
    "\n",
    "Example 1:\n",
    "Input: nums = [1,2,3]\n",
    "Output: 6"
   ]
  },
  {
   "cell_type": "code",
   "execution_count": 5,
   "id": "af2cff51-67b6-4747-aa54-86299240efff",
   "metadata": {},
   "outputs": [
    {
     "name": "stdout",
     "output_type": "stream",
     "text": [
      "6\n"
     ]
    }
   ],
   "source": [
    "def maximumProduct(nums):\n",
    "    nums.sort()  # Step 1: Sort the array in ascending order\n",
    "    \n",
    "    # Step 2: Calculate the product of the last three elements\n",
    "    max_product_pos = nums[-1] * nums[-2] * nums[-3]\n",
    "    \n",
    "    # Step 3: Calculate the product of the first two elements and multiply it with the last element\n",
    "    max_product_neg = nums[0] * nums[1] * nums[-1]\n",
    "    \n",
    "    # Step 4: Return the maximum product between max_product_pos and max_product_neg\n",
    "    return max(max_product_pos, max_product_neg)\n",
    "\n",
    "# Example usage:\n",
    "nums = [1, 2, 3]\n",
    "print(maximumProduct(nums))  # Output: 6\n"
   ]
  },
  {
   "cell_type": "code",
   "execution_count": null,
   "id": "8fb6d46e-e942-4f24-93a5-a3366ed20232",
   "metadata": {},
   "outputs": [],
   "source": []
  },
  {
   "cell_type": "markdown",
   "id": "42601f06-55f3-45af-9d58-eba90df79354",
   "metadata": {},
   "source": [
    "Question 6\n",
    "Given an array of integers nums which is sorted in ascending order, and an integer target,\n",
    "write a function to search target in nums. If target exists, then return its index. Otherwise,\n",
    "return -1.\n",
    "\n",
    "You must write an algorithm with O(log n) runtime complexity.\n",
    "\n",
    "Input: nums = [-1,0,3,5,9,12], target = 9\n",
    "Output: 4\n",
    "\n",
    "Explanation: 9 exists in nums and its index is 4"
   ]
  },
  {
   "cell_type": "code",
   "execution_count": 6,
   "id": "6536ac35-e309-4d2b-81a6-5053387c091d",
   "metadata": {},
   "outputs": [
    {
     "name": "stdout",
     "output_type": "stream",
     "text": [
      "4\n"
     ]
    }
   ],
   "source": [
    "def search(nums, target):\n",
    "    left = 0  # Step 1: Initialize left pointer\n",
    "    right = len(nums) - 1  # Step 1: Initialize right pointer\n",
    "    \n",
    "    while left <= right:  # Step 2: Perform binary search\n",
    "        mid = (left + right) // 2  # Calculate middle index\n",
    "        \n",
    "        if nums[mid] == target:  # Target found\n",
    "            return mid\n",
    "        \n",
    "        if nums[mid] > target:  # Target is in the left half\n",
    "            right = mid - 1\n",
    "        else:  # Target is in the right half\n",
    "            left = mid + 1\n",
    "    \n",
    "    return -1  # Step 3: Target not found\n",
    "\n",
    "# Example usage:\n",
    "nums = [-1, 0, 3, 5, 9, 12]\n",
    "target = 9\n",
    "print(search(nums, target))  # Output: 4\n"
   ]
  },
  {
   "cell_type": "code",
   "execution_count": null,
   "id": "b0811f15-bb24-45fd-8087-03acabb3d578",
   "metadata": {},
   "outputs": [],
   "source": []
  },
  {
   "cell_type": "markdown",
   "id": "ddbc818d-e384-432e-b42f-f2766b158d82",
   "metadata": {},
   "source": [
    "Question 7\n",
    "An array is monotonic if it is either monotone increasing or monotone decreasing.\n",
    "\n",
    "An array nums is monotone increasing if for all i <= j, nums[i] <= nums[j]. An array nums is\n",
    "monotone decreasing if for all i <= j, nums[i] >= nums[j].\n",
    "\n",
    "Given an integer array nums, return true if the given array is monotonic, or false otherwise.\n",
    "\n",
    "Example 1:\n",
    "Input: nums = [1,2,2,3]\n",
    "Output: true"
   ]
  },
  {
   "cell_type": "code",
   "execution_count": 7,
   "id": "a17f4e0e-5467-4223-8194-49592aeacf35",
   "metadata": {},
   "outputs": [
    {
     "name": "stdout",
     "output_type": "stream",
     "text": [
      "True\n"
     ]
    }
   ],
   "source": [
    "def isMonotonic(nums):\n",
    "    isIncreasing = True  # Step 1: Initialize isIncreasing to True\n",
    "    isDecreasing = True  # Step 1: Initialize isDecreasing to True\n",
    "    \n",
    "    for i in range(1, len(nums)):  # Step 2: Iterate over the nums array\n",
    "        if nums[i] < nums[i-1]:  # Check if the array is not increasing\n",
    "            isIncreasing = False\n",
    "        \n",
    "        if nums[i] > nums[i-1]:  # Check if the array is not decreasing\n",
    "            isDecreasing = False\n",
    "        \n",
    "        if not isIncreasing and not isDecreasing:  # Check if neither increasing nor decreasing\n",
    "            return False\n",
    "    \n",
    "    return True  # Step 3: Return True if the loop completes\n",
    "\n",
    "# Example usage:\n",
    "nums = [1, 2, 2, 3]\n",
    "print(isMonotonic(nums))  # Output: True\n"
   ]
  },
  {
   "cell_type": "code",
   "execution_count": null,
   "id": "71382590-2d03-498d-b798-b7c5617748a2",
   "metadata": {},
   "outputs": [],
   "source": []
  },
  {
   "cell_type": "markdown",
   "id": "2e2f3225-fd73-4b57-a4e5-605b477520b7",
   "metadata": {},
   "source": [
    "Question 8\n",
    "You are given an integer array nums and an integer k.\n",
    "\n",
    "In one operation, you can choose any index i where 0 <= i < nums.length and change nums[i] to nums[i] + x where x is an integer from the range [-k, k]. You can apply this operation at most once for each index i.\n",
    "\n",
    "The score of nums is the difference between the maximum and minimum elements in nums.\n",
    "\n",
    "Return the minimum score of nums after applying the mentioned operation at most once for each index in it.\n",
    "\n",
    "Example 1:\n",
    "Input: nums = [1], k = 0\n",
    "Output: 0\n",
    "\n",
    "Explanation: The score is max(nums) - min(nums) = 1 - 1 = 0."
   ]
  },
  {
   "cell_type": "code",
   "execution_count": 8,
   "id": "1498faa3-09a9-4b96-9656-da23bda5b57e",
   "metadata": {},
   "outputs": [
    {
     "name": "stdout",
     "output_type": "stream",
     "text": [
      "0\n"
     ]
    }
   ],
   "source": [
    "def minimumScore(nums, k):\n",
    "    min_val = float('inf')  # Step 1: Initialize min_val to infinity\n",
    "    max_val = float('-inf')  # Step 1: Initialize max_val to negative infinity\n",
    "    \n",
    "    for num in nums:  # Step 2: Find the minimum and maximum values in nums\n",
    "        min_val = min(min_val, num)\n",
    "        max_val = max(max_val, num)\n",
    "    \n",
    "    if max_val - min_val <= 2 * k:  # Step 3: Check if no operation is needed\n",
    "        return 0\n",
    "    \n",
    "    # Step 4: Calculate new minimum and maximum values after applying the operation\n",
    "    min_val = min_val + k if min_val + k < nums[0] else nums[0]\n",
    "    max_val = max_val - k if max_val - k > nums[-1] else nums[-1]\n",
    "    \n",
    "    return max_val - min_val  # Step 5: Return the difference between max_val and min_val\n",
    "\n",
    "# Example usage:\n",
    "nums = [1]\n",
    "k = 0\n",
    "print(minimumScore(nums, k))  # Output: 0\n"
   ]
  },
  {
   "cell_type": "code",
   "execution_count": null,
   "id": "992756e5-28bc-47f5-a80b-90bb7b310907",
   "metadata": {},
   "outputs": [],
   "source": []
  }
 ],
 "metadata": {
  "kernelspec": {
   "display_name": "Python 3 (ipykernel)",
   "language": "python",
   "name": "python3"
  },
  "language_info": {
   "codemirror_mode": {
    "name": "ipython",
    "version": 3
   },
   "file_extension": ".py",
   "mimetype": "text/x-python",
   "name": "python",
   "nbconvert_exporter": "python",
   "pygments_lexer": "ipython3",
   "version": "3.10.8"
  }
 },
 "nbformat": 4,
 "nbformat_minor": 5
}
